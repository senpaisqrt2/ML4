{
 "cells": [
  {
   "cell_type": "code",
   "execution_count": 11,
   "id": "1a064d80-4d6f-4cba-bbc9-741b9c107e4b",
   "metadata": {},
   "outputs": [],
   "source": [
    "# Импорт необходимых библиотек\n",
    "import numpy as np\n",
    "import pandas as pd\n",
    "import matplotlib.pyplot as plt\n",
    "from sklearn.model_selection import train_test_split, cross_validate\n",
    "from sklearn.tree import DecisionTreeClassifier\n",
    "from sklearn.metrics import f1_score, accuracy_score"
   ]
  },
  {
   "cell_type": "code",
   "execution_count": 13,
   "id": "83cfa42b-0c9a-4d3e-8d08-01e935605134",
   "metadata": {},
   "outputs": [
    {
     "data": {
      "text/html": [
       "<div>\n",
       "<style scoped>\n",
       "    .dataframe tbody tr th:only-of-type {\n",
       "        vertical-align: middle;\n",
       "    }\n",
       "\n",
       "    .dataframe tbody tr th {\n",
       "        vertical-align: top;\n",
       "    }\n",
       "\n",
       "    .dataframe thead th {\n",
       "        text-align: right;\n",
       "    }\n",
       "</style>\n",
       "<table border=\"1\" class=\"dataframe\">\n",
       "  <thead>\n",
       "    <tr style=\"text-align: right;\">\n",
       "      <th></th>\n",
       "      <th>Pregnancies</th>\n",
       "      <th>Glucose</th>\n",
       "      <th>BloodPressure</th>\n",
       "      <th>SkinThickness</th>\n",
       "      <th>Insulin</th>\n",
       "      <th>BMI</th>\n",
       "      <th>DiabetesPedigreeFunction</th>\n",
       "      <th>Age</th>\n",
       "      <th>Outcome</th>\n",
       "    </tr>\n",
       "  </thead>\n",
       "  <tbody>\n",
       "    <tr>\n",
       "      <th>0</th>\n",
       "      <td>6</td>\n",
       "      <td>148</td>\n",
       "      <td>72</td>\n",
       "      <td>35</td>\n",
       "      <td>0</td>\n",
       "      <td>33.6</td>\n",
       "      <td>0.627</td>\n",
       "      <td>50</td>\n",
       "      <td>1</td>\n",
       "    </tr>\n",
       "    <tr>\n",
       "      <th>1</th>\n",
       "      <td>1</td>\n",
       "      <td>85</td>\n",
       "      <td>66</td>\n",
       "      <td>29</td>\n",
       "      <td>0</td>\n",
       "      <td>26.6</td>\n",
       "      <td>0.351</td>\n",
       "      <td>31</td>\n",
       "      <td>0</td>\n",
       "    </tr>\n",
       "    <tr>\n",
       "      <th>2</th>\n",
       "      <td>8</td>\n",
       "      <td>183</td>\n",
       "      <td>64</td>\n",
       "      <td>0</td>\n",
       "      <td>0</td>\n",
       "      <td>23.3</td>\n",
       "      <td>0.672</td>\n",
       "      <td>32</td>\n",
       "      <td>1</td>\n",
       "    </tr>\n",
       "    <tr>\n",
       "      <th>3</th>\n",
       "      <td>1</td>\n",
       "      <td>89</td>\n",
       "      <td>66</td>\n",
       "      <td>23</td>\n",
       "      <td>94</td>\n",
       "      <td>28.1</td>\n",
       "      <td>0.167</td>\n",
       "      <td>21</td>\n",
       "      <td>0</td>\n",
       "    </tr>\n",
       "    <tr>\n",
       "      <th>4</th>\n",
       "      <td>0</td>\n",
       "      <td>137</td>\n",
       "      <td>40</td>\n",
       "      <td>35</td>\n",
       "      <td>168</td>\n",
       "      <td>43.1</td>\n",
       "      <td>2.288</td>\n",
       "      <td>33</td>\n",
       "      <td>1</td>\n",
       "    </tr>\n",
       "  </tbody>\n",
       "</table>\n",
       "</div>"
      ],
      "text/plain": [
       "   Pregnancies  Glucose  BloodPressure  SkinThickness  Insulin   BMI  \\\n",
       "0            6      148             72             35        0  33.6   \n",
       "1            1       85             66             29        0  26.6   \n",
       "2            8      183             64              0        0  23.3   \n",
       "3            1       89             66             23       94  28.1   \n",
       "4            0      137             40             35      168  43.1   \n",
       "\n",
       "   DiabetesPedigreeFunction  Age  Outcome  \n",
       "0                     0.627   50        1  \n",
       "1                     0.351   31        0  \n",
       "2                     0.672   32        1  \n",
       "3                     0.167   21        0  \n",
       "4                     2.288   33        1  "
      ]
     },
     "execution_count": 13,
     "metadata": {},
     "output_type": "execute_result"
    }
   ],
   "source": [
    "# Загрузка первых 400 строк датасета\n",
    "df = pd.read_csv('C:/users/senpai_sqrt2/Desktop/Uni/3rd course/ML/ML_course/ML4.4 diagnostics/data/diabetes.csv', nrows=400)\n",
    "df.head()"
   ]
  },
  {
   "cell_type": "code",
   "execution_count": 15,
   "id": "e000179d-96b2-420a-9226-6fef4a6127b4",
   "metadata": {},
   "outputs": [
    {
     "name": "stdout",
     "output_type": "stream",
     "text": [
      "Число признаков: 8\n",
      "\n",
      "Статистика по признакам:\n"
     ]
    },
    {
     "data": {
      "text/html": [
       "<div>\n",
       "<style scoped>\n",
       "    .dataframe tbody tr th:only-of-type {\n",
       "        vertical-align: middle;\n",
       "    }\n",
       "\n",
       "    .dataframe tbody tr th {\n",
       "        vertical-align: top;\n",
       "    }\n",
       "\n",
       "    .dataframe thead th {\n",
       "        text-align: right;\n",
       "    }\n",
       "</style>\n",
       "<table border=\"1\" class=\"dataframe\">\n",
       "  <thead>\n",
       "    <tr style=\"text-align: right;\">\n",
       "      <th></th>\n",
       "      <th>Pregnancies</th>\n",
       "      <th>Glucose</th>\n",
       "      <th>BloodPressure</th>\n",
       "      <th>SkinThickness</th>\n",
       "      <th>Insulin</th>\n",
       "      <th>BMI</th>\n",
       "      <th>DiabetesPedigreeFunction</th>\n",
       "      <th>Age</th>\n",
       "      <th>Outcome</th>\n",
       "    </tr>\n",
       "  </thead>\n",
       "  <tbody>\n",
       "    <tr>\n",
       "      <th>count</th>\n",
       "      <td>400.000000</td>\n",
       "      <td>400.00000</td>\n",
       "      <td>400.000000</td>\n",
       "      <td>400.000000</td>\n",
       "      <td>400.000000</td>\n",
       "      <td>400.00000</td>\n",
       "      <td>400.000000</td>\n",
       "      <td>400.000000</td>\n",
       "      <td>400.000000</td>\n",
       "    </tr>\n",
       "    <tr>\n",
       "      <th>mean</th>\n",
       "      <td>3.952500</td>\n",
       "      <td>121.24000</td>\n",
       "      <td>69.060000</td>\n",
       "      <td>20.327500</td>\n",
       "      <td>81.250000</td>\n",
       "      <td>32.10775</td>\n",
       "      <td>0.487915</td>\n",
       "      <td>33.092500</td>\n",
       "      <td>0.380000</td>\n",
       "    </tr>\n",
       "    <tr>\n",
       "      <th>std</th>\n",
       "      <td>3.369514</td>\n",
       "      <td>32.68437</td>\n",
       "      <td>19.011575</td>\n",
       "      <td>15.599796</td>\n",
       "      <td>121.597254</td>\n",
       "      <td>8.13714</td>\n",
       "      <td>0.349619</td>\n",
       "      <td>11.325396</td>\n",
       "      <td>0.485994</td>\n",
       "    </tr>\n",
       "    <tr>\n",
       "      <th>min</th>\n",
       "      <td>0.000000</td>\n",
       "      <td>0.00000</td>\n",
       "      <td>0.000000</td>\n",
       "      <td>0.000000</td>\n",
       "      <td>0.000000</td>\n",
       "      <td>0.00000</td>\n",
       "      <td>0.078000</td>\n",
       "      <td>21.000000</td>\n",
       "      <td>0.000000</td>\n",
       "    </tr>\n",
       "    <tr>\n",
       "      <th>25%</th>\n",
       "      <td>1.000000</td>\n",
       "      <td>100.00000</td>\n",
       "      <td>64.000000</td>\n",
       "      <td>0.000000</td>\n",
       "      <td>0.000000</td>\n",
       "      <td>27.30000</td>\n",
       "      <td>0.250500</td>\n",
       "      <td>24.000000</td>\n",
       "      <td>0.000000</td>\n",
       "    </tr>\n",
       "    <tr>\n",
       "      <th>50%</th>\n",
       "      <td>3.000000</td>\n",
       "      <td>116.50000</td>\n",
       "      <td>71.000000</td>\n",
       "      <td>23.000000</td>\n",
       "      <td>36.000000</td>\n",
       "      <td>32.00000</td>\n",
       "      <td>0.381000</td>\n",
       "      <td>29.000000</td>\n",
       "      <td>0.000000</td>\n",
       "    </tr>\n",
       "    <tr>\n",
       "      <th>75%</th>\n",
       "      <td>6.000000</td>\n",
       "      <td>143.00000</td>\n",
       "      <td>80.000000</td>\n",
       "      <td>32.000000</td>\n",
       "      <td>128.250000</td>\n",
       "      <td>36.60000</td>\n",
       "      <td>0.652500</td>\n",
       "      <td>40.000000</td>\n",
       "      <td>1.000000</td>\n",
       "    </tr>\n",
       "    <tr>\n",
       "      <th>max</th>\n",
       "      <td>17.000000</td>\n",
       "      <td>197.00000</td>\n",
       "      <td>122.000000</td>\n",
       "      <td>60.000000</td>\n",
       "      <td>846.000000</td>\n",
       "      <td>67.10000</td>\n",
       "      <td>2.329000</td>\n",
       "      <td>69.000000</td>\n",
       "      <td>1.000000</td>\n",
       "    </tr>\n",
       "  </tbody>\n",
       "</table>\n",
       "</div>"
      ],
      "text/plain": [
       "       Pregnancies    Glucose  BloodPressure  SkinThickness     Insulin  \\\n",
       "count   400.000000  400.00000     400.000000     400.000000  400.000000   \n",
       "mean      3.952500  121.24000      69.060000      20.327500   81.250000   \n",
       "std       3.369514   32.68437      19.011575      15.599796  121.597254   \n",
       "min       0.000000    0.00000       0.000000       0.000000    0.000000   \n",
       "25%       1.000000  100.00000      64.000000       0.000000    0.000000   \n",
       "50%       3.000000  116.50000      71.000000      23.000000   36.000000   \n",
       "75%       6.000000  143.00000      80.000000      32.000000  128.250000   \n",
       "max      17.000000  197.00000     122.000000      60.000000  846.000000   \n",
       "\n",
       "             BMI  DiabetesPedigreeFunction         Age     Outcome  \n",
       "count  400.00000                400.000000  400.000000  400.000000  \n",
       "mean    32.10775                  0.487915   33.092500    0.380000  \n",
       "std      8.13714                  0.349619   11.325396    0.485994  \n",
       "min      0.00000                  0.078000   21.000000    0.000000  \n",
       "25%     27.30000                  0.250500   24.000000    0.000000  \n",
       "50%     32.00000                  0.381000   29.000000    0.000000  \n",
       "75%     36.60000                  0.652500   40.000000    1.000000  \n",
       "max     67.10000                  2.329000   69.000000    1.000000  "
      ]
     },
     "execution_count": 15,
     "metadata": {},
     "output_type": "execute_result"
    }
   ],
   "source": [
    "# Количественное описание датасета\n",
    "print(\"Число признаков:\", df.shape[1] - 1)  # минус целевая переменная\n",
    "print(\"\\nСтатистика по признакам:\")\n",
    "df.describe()"
   ]
  },
  {
   "cell_type": "code",
   "execution_count": 17,
   "id": "7e74e9b7-3ec8-4b06-944d-fc90508ac9e6",
   "metadata": {},
   "outputs": [],
   "source": [
    "# Отделение целевой переменной\n",
    "target = \"Outcome\"\n",
    "y = df[target]\n",
    "X = df.drop(target, axis=1)"
   ]
  },
  {
   "cell_type": "code",
   "execution_count": 19,
   "id": "4c56a795-d90d-4f9d-bf56-0da7bc2e96b4",
   "metadata": {},
   "outputs": [],
   "source": [
    "# Разделение данных на обучающую и валидационную выборки\n",
    "X_train, X_test, y_train, y_test = train_test_split(X, y, test_size=0.2, random_state=42)"
   ]
  },
  {
   "cell_type": "code",
   "execution_count": 21,
   "id": "d620ad80-1947-4371-aac1-59c553385093",
   "metadata": {},
   "outputs": [
    {
     "name": "stdout",
     "output_type": "stream",
     "text": [
      "Train f1-score = 1.0000\n",
      "Test f1-score = 0.6364\n"
     ]
    }
   ],
   "source": [
    "# Создание и обучение модели DecisionTreeClassifier\n",
    "model = DecisionTreeClassifier(random_state=1).fit(X_train, y_train)\n",
    "\n",
    "# Предсказание и оценка модели\n",
    "y_train_pred = model.predict(X_train)\n",
    "y_test_pred = model.predict(X_test)\n",
    "\n",
    "print(\"Train f1-score = %.4f\" % f1_score(y_train, y_train_pred))\n",
    "print(\"Test f1-score = %.4f\" % f1_score(y_test, y_test_pred))"
   ]
  },
  {
   "cell_type": "code",
   "execution_count": 23,
   "id": "f86c2e0d-58e6-4924-a54a-7ddbea3b8ec6",
   "metadata": {},
   "outputs": [
    {
     "data": {
      "image/png": "[encoded data removed]",
      "text/plain": [
       "<Figure size 640x480 with 1 Axes>"
      ]
     },
     "metadata": {},
     "output_type": "display_data"
    }
   ],
   "source": [
    "# Кросс-валидация и построение графика\n",
    "cv_results = cross_validate(model, X, y, cv=5, scoring='f1', return_train_score=True)\n",
    "\n",
    "plt.plot(cv_results['train_score'], label='train')\n",
    "plt.plot(cv_results['test_score'], label='test')\n",
    "plt.legend()\n",
    "plt.title('F1-score при кросс-валидации (без регуляризации)')\n",
    "plt.show()"
   ]
  },
  {
   "cell_type": "code",
   "execution_count": 25,
   "id": "47da7bf3-f48e-4110-ab33-3b18920b88de",
   "metadata": {},
   "outputs": [
    {
     "name": "stdout",
     "output_type": "stream",
     "text": [
      "Train f1-score (регуляризованная) = 0.5059\n",
      "Test f1-score (регуляризованная) = 0.4783\n"
     ]
    }
   ],
   "source": [
    "# Регуляризация модели (уменьшение глубины дерева)\n",
    "model_reg = DecisionTreeClassifier(random_state=1, max_depth=3).fit(X_train, y_train)\n",
    "\n",
    "# Предсказание и оценка регуляризованной модели\n",
    "y_train_pred_reg = model_reg.predict(X_train)\n",
    "y_test_pred_reg = model_reg.predict(X_test)\n",
    "\n",
    "print(\"Train f1-score (регуляризованная) = %.4f\" % f1_score(y_train, y_train_pred_reg))\n",
    "print(\"Test f1-score (регуляризованная) = %.4f\" % f1_score(y_test, y_test_pred_reg))"
   ]
  },
  {
   "cell_type": "code",
   "execution_count": 27,
   "id": "333266ac-ac40-437f-897c-79d91e5506ab",
   "metadata": {},
   "outputs": [
    {
     "data": {
      "image/png": "[encoded data removed]",
      "text/plain": [
       "<Figure size 640x480 with 1 Axes>"
      ]
     },
     "metadata": {},
     "output_type": "display_data"
    }
   ],
   "source": [
    "# Кросс-валидация регуляризованной модели\n",
    "cv_results_reg = cross_validate(model_reg, X, y, cv=5, scoring='f1', return_train_score=True)\n",
    "\n",
    "plt.plot(cv_results_reg['train_score'], label='train')\n",
    "plt.plot(cv_results_reg['test_score'], label='test')\n",
    "plt.legend()\n",
    "plt.title('F1-score при кросс-валидации (с регуляризацией)')\n",
    "plt.show()"
   ]
  },
  {
   "cell_type": "code",
   "execution_count": 29,
   "id": "0c8b1e89-9f3b-49c7-b364-d5d1b6fa8e04",
   "metadata": {},
   "outputs": [
    {
     "name": "stdout",
     "output_type": "stream",
     "text": [
      "Train f1-score (полные данные) = 0.6584\n",
      "Test f1-score (полные данные) = 0.6476\n"
     ]
    }
   ],
   "source": [
    "# Загрузка полного датасета для борьбы с недообучением\n",
    "df_full = pd.read_csv('C:/users/senpai_sqrt2/Desktop/Uni/3rd course/ML/ML_course/ML4.4 diagnostics/data/diabetes.csv')\n",
    "target = \"Outcome\"\n",
    "y_full = df_full[target]\n",
    "X_full = df_full.drop(target, axis=1)\n",
    "\n",
    "# Разделение полных данных\n",
    "X_train_full, X_test_full, y_train_full, y_test_full = train_test_split(\n",
    "    X_full, y_full, test_size=0.2, random_state=42)\n",
    "\n",
    "# Обучение модели на всех данных\n",
    "model_full = DecisionTreeClassifier(random_state=1, max_depth=3).fit(X_train_full, y_train_full)\n",
    "\n",
    "# Оценка модели\n",
    "y_train_pred_full = model_full.predict(X_train_full)\n",
    "y_test_pred_full = model_full.predict(X_test_full)\n",
    "\n",
    "print(\"Train f1-score (полные данные) = %.4f\" % f1_score(y_train_full, y_train_pred_full))\n",
    "print(\"Test f1-score (полные данные) = %.4f\" % f1_score(y_test_full, y_test_pred_full))"
   ]
  },
  {
   "cell_type": "code",
   "execution_count": null,
   "id": "27d051b5-e8e0-41c3-af69-ba129b692e3d",
   "metadata": {},
   "outputs": [],
   "source": []
  }
 ],
 "metadata": {
  "kernelspec": {
   "display_name": "Python [conda env:base] *",
   "language": "python",
   "name": "conda-base-py"
  },
  "language_info": {
   "codemirror_mode": {
    "name": "ipython",
    "version": 3
   },
   "file_extension": ".py",
   "mimetype": "text/x-python",
   "name": "python",
   "nbconvert_exporter": "python",
   "pygments_lexer": "ipython3",
   "version": "3.12.7"
  }
 },
 "nbformat": 4,
 "nbformat_minor": 5
}
